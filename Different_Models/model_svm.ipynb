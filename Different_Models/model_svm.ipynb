{
 "cells": [
  {
   "cell_type": "code",
   "execution_count": 1,
   "metadata": {},
   "outputs": [],
   "source": [
    "import json\n",
    "from sklearn.model_selection import train_test_split\n",
    "from sklearn.feature_extraction.text import TfidfVectorizer\n",
    "from sklearn.feature_extraction.text import CountVectorizer\n",
    "from sklearn.svm import SVC\n",
    "from sklearn.naive_bayes import MultinomialNB\n",
    "import evaluation\n",
    "import tqdm"
   ]
  },
  {
   "cell_type": "code",
   "execution_count": 2,
   "metadata": {},
   "outputs": [],
   "source": [
    "# Step 1: Load data from JSON file\n",
    "with open('a1_data/train.json', 'r',encoding='utf-8') as f:\n",
    "    data = json.load(f)"
   ]
  },
  {
   "cell_type": "code",
   "execution_count": 3,
   "metadata": {},
   "outputs": [],
   "source": [
    "# Extract sentences and languages\n",
    "sentences = [entry['text'] for entry in data]\n",
    "languages = [entry['langid'] for entry in data]\n",
    "\n",
    "# Step 2: Split data into training and testing sets\n",
    "X_train, X_test, y_train, y_test = train_test_split(sentences, languages, test_size=0.2, random_state=42)"
   ]
  },
  {
   "cell_type": "code",
   "execution_count": 4,
   "metadata": {},
   "outputs": [],
   "source": [
    "# Step 3: Convert text data into numerical features using TF-IDF\n",
    "tfidf_vectorizer = TfidfVectorizer()\n",
    "X_train_tfidf = tfidf_vectorizer.fit_transform(X_train)\n",
    "X_test_tfidf = tfidf_vectorizer.transform(X_test)"
   ]
  },
  {
   "cell_type": "code",
   "execution_count": 5,
   "metadata": {},
   "outputs": [
    {
     "name": "stdout",
     "output_type": "stream",
     "text": [
      "[LibSVM]........*...*\n",
      "optimization finished, #iter = 11814\n",
      "obj = -817.329138, rho = 0.721717\n",
      "nSV = 6549, nBSV = 360\n",
      "..........*.....*\n",
      "optimization finished, #iter = 15465\n",
      "obj = -882.694133, rho = 0.816958\n",
      "nSV = 8029, nBSV = 444\n",
      "......*..*\n",
      "optimization finished, #iter = 8995\n",
      "obj = -749.088770, rho = 0.570891\n",
      "nSV = 4778, nBSV = 278\n",
      ".....*...*\n",
      "optimization finished, #iter = 8286\n",
      "obj = -699.898748, rho = 0.523570\n",
      "nSV = 4475, nBSV = 256\n",
      ".*.*\n",
      "optimization finished, #iter = 2667\n",
      "obj = -260.481688, rho = -0.509467\n",
      "nSV = 1549, nBSV = 92\n",
      ".......*...*\n",
      "optimization finished, #iter = 10855\n",
      "obj = -759.766762, rho = 0.664426\n",
      "nSV = 5687, nBSV = 302\n",
      "...*.*\n",
      "optimization finished, #iter = 4932\n",
      "obj = -616.881002, rho = 0.343349\n",
      "nSV = 2955, nBSV = 174\n",
      "....*.*\n",
      "optimization finished, #iter = 5462\n",
      "obj = -669.843035, rho = 0.484662\n",
      "nSV = 3306, nBSV = 228\n",
      "...*.*\n",
      "optimization finished, #iter = 4462\n",
      "obj = -554.173106, rho = 0.124416\n",
      "nSV = 2519, nBSV = 119\n",
      "......*...*\n",
      "optimization finished, #iter = 9966\n",
      "obj = -761.709745, rho = 0.623180\n",
      "nSV = 5293, nBSV = 318\n",
      "......*..*\n",
      "optimization finished, #iter = 8890\n",
      "obj = -773.096113, rho = 0.627234\n",
      "nSV = 4948, nBSV = 316\n",
      "...*..*\n",
      "optimization finished, #iter = 5377\n",
      "obj = -653.801345, rho = 0.445412\n",
      "nSV = 3246, nBSV = 215\n",
      "...........................................*..........................*..*\n",
      "optimization finished, #iter = 70248\n",
      "obj = -11331.248117, rho = 0.437707\n",
      "nSV = 25870, nBSV = 9164\n",
      "...............*......*\n",
      "optimization finished, #iter = 21984\n",
      "obj = -2781.786057, rho = -0.251841\n",
      "nSV = 10562, nBSV = 1384\n",
      "................*........"
     ]
    }
   ],
   "source": [
    "# Step 4: Train SVM model\n",
    "svm_classifier = SVC(kernel='linear', verbose=True)\n",
    "svm_classifier.fit(X_train_tfidf, y_train)"
   ]
  },
  {
   "cell_type": "code",
   "execution_count": null,
   "metadata": {},
   "outputs": [],
   "source": [
    "predictions_svm = []\n",
    "for i in tqdm(range(len(X_test_tfidf))):\n",
    "    prediction = svm_classifier.predict(X_test_tfidf[i])\n",
    "    predictions_svm.append(prediction)"
   ]
  },
  {
   "cell_type": "code",
   "execution_count": null,
   "metadata": {},
   "outputs": [],
   "source": [
    "print(\"Micro F1 score for SVM:\", evaluation.compute_micro_f1_score(predictions_svm, y_test))"
   ]
  },
  {
   "cell_type": "code",
   "execution_count": null,
   "metadata": {},
   "outputs": [],
   "source": [
    "print(\"Macro F1 score for SVM:\", evaluation.compute_macro_f1_score(predictions_svm, y_test))"
   ]
  }
 ],
 "metadata": {
  "kernelspec": {
   "display_name": "base",
   "language": "python",
   "name": "python3"
  },
  "language_info": {
   "codemirror_mode": {
    "name": "ipython",
    "version": 3
   },
   "file_extension": ".py",
   "mimetype": "text/x-python",
   "name": "python",
   "nbconvert_exporter": "python",
   "pygments_lexer": "ipython3",
   "version": "3.11.4"
  }
 },
 "nbformat": 4,
 "nbformat_minor": 2
}
