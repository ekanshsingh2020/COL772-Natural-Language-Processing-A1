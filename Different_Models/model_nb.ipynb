{
 "cells": [
  {
   "cell_type": "code",
   "execution_count": 1,
   "metadata": {},
   "outputs": [],
   "source": [
    "import json\n",
    "from sklearn.model_selection import train_test_split\n",
    "from sklearn.feature_extraction.text import CountVectorizer\n",
    "from sklearn.naive_bayes import MultinomialNB\n",
    "import evaluation\n",
    "import numpy as np"
   ]
  },
  {
   "cell_type": "markdown",
   "metadata": {},
   "source": [
    "### Load Training and Testing Data"
   ]
  },
  {
   "cell_type": "code",
   "execution_count": 2,
   "metadata": {},
   "outputs": [],
   "source": [
    "# Step 1: Load data from JSON file\n",
    "with open('a1_data/train.json', 'r',encoding='utf-8') as f:\n",
    "    data_train = json.load(f)\n",
    "with open('valid_new.json', 'r',encoding='utf-8') as f:\n",
    "    data_test = json.load(f)"
   ]
  },
  {
   "cell_type": "markdown",
   "metadata": {},
   "source": [
    "### Training Data"
   ]
  },
  {
   "cell_type": "code",
   "execution_count": 3,
   "metadata": {},
   "outputs": [],
   "source": [
    "# Extract sentences and languages\n",
    "sentences_train = [entry['text'] for entry in data_train]\n",
    "languages_train = [entry['langid'] for entry in data_train]\n",
    "\n",
    "# Step 2: Split data into training and testing sets\n",
    "X_train, Y_train = sentences_train, languages_train\n",
    "\n",
    "del(sentences_train)\n",
    "del(languages_train)"
   ]
  },
  {
   "cell_type": "markdown",
   "metadata": {},
   "source": [
    "### Test on the training data and remove the outliers"
   ]
  },
  {
   "cell_type": "code",
   "execution_count": 4,
   "metadata": {},
   "outputs": [],
   "source": [
    "for i in range(0,1):\n",
    "    X_test=X_train\n",
    "    Y_test=Y_train\n",
    "    count_vectorizer = CountVectorizer(ngram_range=(4,6),analyzer='char')\n",
    "    X_train_counts = count_vectorizer.fit_transform(X_train)\n",
    "    X_test_counts = count_vectorizer.transform(X_test)\n",
    "    naive_bayes_classifier = MultinomialNB(alpha=0.01)\n",
    "    naive_bayes_classifier.fit(X_train_counts, Y_train)\n",
    "    predictions_nb = naive_bayes_classifier.predict(X_test_counts)\n",
    "    X_train_new=[]\n",
    "    Y_train_new=[]\n",
    "    for i in range(len(X_train)):\n",
    "        if Y_train[i]==predictions_nb[i]:\n",
    "            X_train_new.append(X_train[i])\n",
    "            Y_train_new.append(Y_train[i])\n",
    "    X_train=X_train_new\n",
    "    Y_train=Y_train_new\n",
    "    del(X_train_new)\n",
    "    del(Y_train_new)\n",
    "    del(count_vectorizer)\n",
    "    del(X_train_counts)\n",
    "    del(X_test_counts)\n",
    "    del(naive_bayes_classifier)\n",
    "    del(predictions_nb)\n",
    "\n",
    "print(\"Data cleaned\")"
   ]
  },
  {
   "cell_type": "code",
   "execution_count": 5,
   "metadata": {},
   "outputs": [
    {
     "name": "stdout",
     "output_type": "stream",
     "text": [
      "788185\n"
     ]
    }
   ],
   "source": [
    "# with open('X_train_clean.json', 'r',encoding='utf-8') as f:\n",
    "#     data_clean = json.load(f)\n",
    "# X_train=data_clean\n",
    "# with open('Y_train_clean.json', 'r',encoding='utf-8') as f:\n",
    "#     data_clean = json.load(f)\n",
    "# Y_train=data_clean\n",
    "# print(len(X_train))"
   ]
  },
  {
   "cell_type": "markdown",
   "metadata": {},
   "source": [
    "### Testing Data"
   ]
  },
  {
   "cell_type": "code",
   "execution_count": 6,
   "metadata": {},
   "outputs": [],
   "source": [
    "sentences_test = [entry['text'] for entry in data_test]\n",
    "languages_test = [entry['langid'] for entry in data_test]\n",
    "\n",
    "X_test, Y_test = sentences_test, languages_test\n",
    "\n",
    "del(sentences_test)\n",
    "del(languages_test)"
   ]
  },
  {
   "cell_type": "markdown",
   "metadata": {},
   "source": [
    "### N Gram Parameter Tuning"
   ]
  },
  {
   "cell_type": "code",
   "execution_count": 7,
   "metadata": {},
   "outputs": [],
   "source": [
    "# now I want to find the best value for ngram_range so I will run two loops to find the best value for ngram_range\n",
    "# for i in range (1,7):\n",
    "#     for j in range (i,7):\n",
    "#         # Step 3: Vectorize the data\n",
    "#         vectorizer = CountVectorizer(ngram_range=(i,j),analyzer='char')\n",
    "#         X_train_counts = vectorizer.fit_transform(X_train)\n",
    "#         X_test_counts = vectorizer.transform(X_test)\n",
    "#         # Step 4: Train a classifier\n",
    "#         classifier = MultinomialNB()\n",
    "#         classifier.fit(X_train_counts, Y_train)\n",
    "#         # Step 5: Test the classifier\n",
    "#         predictions = classifier.predict(X_test_counts)\n",
    "#         # Step 6: Evaluate the classifier\n",
    "#         print('Micro F1 for ngram_range=(',i,',',j,'):',evaluation.compute_micro_f1_score(predictions, Y_test))\n",
    "#         print('Macro F1 for ngram_range=(',i,',',j,'):',evaluation.compute_macro_f1_score(predictions, Y_test))\n",
    "#         print('=======================================================')\n",
    "#         # Step 7: Write the micro and macro F1 scores to a file\n",
    "#         with open('ngram_range.txt', 'a') as file:\n",
    "#             file.write('Micro F1 for ngram_range=('+str(i)+','+str(j)+'):'+str(evaluation.compute_micro_f1_score(predictions, Y_test))+'\\n')\n",
    "#             file.write('Macro F1 for ngram_range=('+str(i)+','+str(j)+'):'+str(evaluation.compute_macro_f1_score(predictions, Y_test))+'\\n')\n",
    "#             file.write('=======================================================\\n')\n"
   ]
  },
  {
   "cell_type": "markdown",
   "metadata": {},
   "source": [
    "### UpSampling the Data\n",
    "TODO: Change the number 17 according to the data available"
   ]
  },
  {
   "cell_type": "code",
   "execution_count": 8,
   "metadata": {},
   "outputs": [
    {
     "name": "stdout",
     "output_type": "stream",
     "text": [
      "1129593\n"
     ]
    }
   ],
   "source": [
    "X_train_new = []\n",
    "Y_train_new = []\n",
    "\n",
    "for i in range(len(X_train)):\n",
    "    if Y_train[i] == 'ta' or Y_train[i]=='kn' or Y_train[i]=='ml' or Y_train[i]=='hi' or Y_train[i]=='bn' or Y_train[i]=='mr':\n",
    "        for j in range(17):\n",
    "            X_train_new.append(X_train[i])\n",
    "            Y_train_new.append(Y_train[i])\n",
    "    else:\n",
    "        X_train_new.append(X_train[i])\n",
    "        Y_train_new.append(Y_train[i])\n",
    "\n",
    "X_train = X_train_new\n",
    "Y_train = Y_train_new\n",
    "\n",
    "del(X_train_new)\n",
    "del(Y_train_new)"
   ]
  },
  {
   "cell_type": "markdown",
   "metadata": {},
   "source": [
    "### Vectorization"
   ]
  },
  {
   "cell_type": "code",
   "execution_count": 9,
   "metadata": {},
   "outputs": [
    {
     "name": "stdout",
     "output_type": "stream",
     "text": [
      "(1129593, 6952776)\n"
     ]
    }
   ],
   "source": [
    "print(\"Start vectorize\")\n",
    "count_vectorizer = CountVectorizer(ngram_range=(4,6),analyzer='char')\n",
    "X_train_counts = count_vectorizer.fit_transform(X_train)\n",
    "X_test_counts = count_vectorizer.transform(X_test)\n",
    "del(count_vectorizer)"
   ]
  },
  {
   "cell_type": "markdown",
   "metadata": {},
   "source": [
    "### Naive Bayes Model\n",
    "TODO: Smoothing parameter tuning and set it according to the Capital Words\n",
    "TODO: Hyperparameter tuning for the complete training data"
   ]
  },
  {
   "cell_type": "code",
   "execution_count": 10,
   "metadata": {},
   "outputs": [],
   "source": [
    "# Do naive bayes\n",
    "naive_bayes_classifier = MultinomialNB(alpha=0.01)\n",
    "naive_bayes_classifier.fit(X_train_counts, Y_train)\n",
    "predictions_nb = naive_bayes_classifier.predict(X_test_counts)\n",
    "del(naive_bayes_classifier)\n",
    "del(X_train_counts)\n",
    "del(X_test_counts)"
   ]
  },
  {
   "cell_type": "code",
   "execution_count": 11,
   "metadata": {},
   "outputs": [
    {
     "name": "stdout",
     "output_type": "stream",
     "text": [
      "Micro F1 score for NB: 0.9164179104477613\n",
      "Macro F1 score for NB: 0.9315237116887807\n"
     ]
    }
   ],
   "source": [
    "print(\"Micro F1 score for NB:\", evaluation.compute_micro_f1_score(predictions_nb, Y_test))\n",
    "print(\"Macro F1 score for NB:\", evaluation.compute_macro_f1_score(predictions_nb, Y_test))\n",
    "del(X_train)\n",
    "del(Y_train)\n",
    "del(predictions_nb)"
   ]
  }
 ],
 "metadata": {
  "kernelspec": {
   "display_name": "Python 3",
   "language": "python",
   "name": "python3"
  },
  "language_info": {
   "codemirror_mode": {
    "name": "ipython",
    "version": 3
   },
   "file_extension": ".py",
   "mimetype": "text/x-python",
   "name": "python",
   "nbconvert_exporter": "python",
   "pygments_lexer": "ipython3",
   "version": "3.11.4"
  }
 },
 "nbformat": 4,
 "nbformat_minor": 2
}
