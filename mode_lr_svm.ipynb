{
 "cells": [
  {
   "cell_type": "code",
   "execution_count": 1,
   "metadata": {},
   "outputs": [],
   "source": [
    "import json\n",
    "from sklearn.model_selection import train_test_split\n",
    "from sklearn.feature_extraction.text import TfidfVectorizer\n",
    "from sklearn.linear_model import LogisticRegression\n",
    "from sklearn.svm import SVC\n",
    "from sklearn.ensemble import VotingClassifier\n",
    "import evaluation\n",
    "# Step 1: Load data from JSON file\n",
    "with open('a1_data/train.json', 'r') as f:\n",
    "    data = json.load(f)\n",
    "\n",
    "# Extract sentences and languages\n",
    "sentences = [entry['text'] for entry in data]\n",
    "languages = [entry['langid'] for entry in data]\n",
    "\n",
    "# Step 2: Split data into training and testing sets\n",
    "X_train, X_test, y_train, y_test = train_test_split(sentences, languages, test_size=0.2, random_state=42)\n",
    "\n",
    "# Step 3: Convert text data into numerical features using TF-IDF\n",
    "tfidf_vectorizer = TfidfVectorizer()\n",
    "X_train_tfidf = tfidf_vectorizer.fit_transform(X_train)\n",
    "X_test_tfidf = tfidf_vectorizer.transform(X_test)\n",
    "\n",
    "# Step 4: Train Logistic Regression model\n",
    "logistic_regression_classifier = LogisticRegression(max_iter=1000)\n",
    "logistic_regression_classifier.fit(X_train_tfidf, y_train)\n",
    "\n",
    "# Step 5: Train SVM model\n",
    "svm_classifier = SVC(kernel='linear', probability=True)\n",
    "svm_classifier.fit(X_train_tfidf, y_train)\n",
    "\n",
    "# Step 6: Create a voting classifier combining Logistic Regression and SVM\n",
    "voting_classifier = VotingClassifier(estimators=[('lr', logistic_regression_classifier), ('svm', svm_classifier)], voting='soft')\n",
    "voting_classifier.fit(X_train_tfidf, y_train)\n",
    "\n",
    "# Step 7: Evaluate the combined model\n",
    "predictions = voting_classifier.predict(X_test_tfidf)\n"
   ]
  },
  {
   "cell_type": "code",
   "execution_count": null,
   "metadata": {},
   "outputs": [],
   "source": [
    "print(\"Micro F1 Score for combined model: \", evaluation.compute_micro_f1_score(predictions, y_test))\n",
    "print(\"Macro F1 Score for combined model: \", evaluation.compute_macro_f1_score(predictions, y_test))"
   ]
  }
 ],
 "metadata": {
  "kernelspec": {
   "display_name": "Python 3",
   "language": "python",
   "name": "python3"
  },
  "language_info": {
   "codemirror_mode": {
    "name": "ipython",
    "version": 3
   },
   "file_extension": ".py",
   "mimetype": "text/x-python",
   "name": "python",
   "nbconvert_exporter": "python",
   "pygments_lexer": "ipython3",
   "version": "3.8.10"
  }
 },
 "nbformat": 4,
 "nbformat_minor": 2
}
