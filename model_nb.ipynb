{
 "cells": [
  {
   "cell_type": "code",
   "execution_count": 32,
   "metadata": {},
   "outputs": [],
   "source": [
    "import json\n",
    "from sklearn.model_selection import train_test_split\n",
    "from sklearn.feature_extraction.text import CountVectorizer\n",
    "from sklearn.naive_bayes import MultinomialNB\n",
    "import evaluation\n",
    "import numpy as np"
   ]
  },
  {
   "cell_type": "markdown",
   "metadata": {},
   "source": [
    "### Load Training and Testing Data"
   ]
  },
  {
   "cell_type": "code",
   "execution_count": 33,
   "metadata": {},
   "outputs": [],
   "source": [
    "# Step 1: Load data from JSON file\n",
    "with open('a1_data/train.json', 'r',encoding='utf-8') as f:\n",
    "    data_train = json.load(f)\n",
    "with open('valid_new.json', 'r',encoding='utf-8') as f:\n",
    "    data_test = json.load(f)"
   ]
  },
  {
   "cell_type": "markdown",
   "metadata": {},
   "source": [
    "### Training Data"
   ]
  },
  {
   "cell_type": "code",
   "execution_count": 34,
   "metadata": {},
   "outputs": [],
   "source": [
    "# Extract sentences and languages\n",
    "sentences_train = [entry['text'] for entry in data_train]\n",
    "languages_train = [entry['langid'] for entry in data_train]\n",
    "\n",
    "# Step 2: Split data into training and testing sets\n",
    "X_train, Y_train = sentences_train, languages_train"
   ]
  },
  {
   "cell_type": "markdown",
   "metadata": {},
   "source": [
    "### Test on the training data and remove the outliers"
   ]
  },
  {
   "cell_type": "code",
   "execution_count": 35,
   "metadata": {},
   "outputs": [],
   "source": [
    "# for i in range(0,3):\n",
    "#     X_test=X_train\n",
    "#     Y_test=Y_train\n",
    "#     count_vectorizer = CountVectorizer(ngram_range=(4,5),analyzer='char')\n",
    "#     X_train_counts = count_vectorizer.fit_transform(X_train)\n",
    "#     X_test_counts = count_vectorizer.transform(X_test)\n",
    "#     naive_bayes_classifier = MultinomialNB()\n",
    "#     naive_bayes_classifier.fit(X_train_counts, Y_train)\n",
    "#     predictions_nb = naive_bayes_classifier.predict(X_test_counts)\n",
    "#     print(\"Micro F1 score for NB:\", evaluation.compute_micro_f1_score(predictions_nb, Y_test))\n",
    "#     print(\"Macro F1 score for NB:\", evaluation.compute_macro_f1_score(predictions_nb, Y_test))\n",
    "#     X_train_new=[]\n",
    "#     Y_train_new=[]\n",
    "#     print(len(X_train))\n",
    "#     print(len(Y_train))\n",
    "#     for i in range(len(X_train)):\n",
    "#         if Y_train[i]==predictions_nb[i]:\n",
    "#             X_train_new.append(X_train[i])\n",
    "#             Y_train_new.append(Y_train[i])\n",
    "#     X_train=X_train_new\n",
    "#     Y_train=Y_train_new\n",
    "#     print(len(X_train))\n",
    "#     print(len(Y_train))"
   ]
  },
  {
   "cell_type": "code",
   "execution_count": 36,
   "metadata": {},
   "outputs": [
    {
     "name": "stdout",
     "output_type": "stream",
     "text": [
      "788185\n"
     ]
    }
   ],
   "source": [
    "with open('X_train_clean.json', 'r',encoding='utf-8') as f:\n",
    "    data_clean = json.load(f)\n",
    "X_train=data_clean\n",
    "with open('Y_train_clean.json', 'r',encoding='utf-8') as f:\n",
    "    data_clean = json.load(f)\n",
    "Y_train=data_clean\n",
    "print(len(X_train))"
   ]
  },
  {
   "cell_type": "markdown",
   "metadata": {},
   "source": [
    "### Testing Data"
   ]
  },
  {
   "cell_type": "code",
   "execution_count": 37,
   "metadata": {},
   "outputs": [],
   "source": [
    "sentences_test = [entry['text'] for entry in data_test]\n",
    "languages_test = [entry['langid'] for entry in data_test]\n",
    "\n",
    "X_test, Y_test = sentences_test, languages_test"
   ]
  },
  {
   "cell_type": "markdown",
   "metadata": {},
   "source": [
    "### N Gram Parameter Tuning"
   ]
  },
  {
   "cell_type": "code",
   "execution_count": 38,
   "metadata": {},
   "outputs": [],
   "source": [
    "# now I want to find the best value for ngram_range so I will run two loops to find the best value for ngram_range\n",
    "# for i in range (1,7):\n",
    "#     for j in range (i,7):\n",
    "#         # Step 3: Vectorize the data\n",
    "#         vectorizer = CountVectorizer(ngram_range=(i,j),analyzer='char')\n",
    "#         X_train_counts = vectorizer.fit_transform(X_train)\n",
    "#         X_test_counts = vectorizer.transform(X_test)\n",
    "#         # Step 4: Train a classifier\n",
    "#         classifier = MultinomialNB()\n",
    "#         classifier.fit(X_train_counts, Y_train)\n",
    "#         # Step 5: Test the classifier\n",
    "#         predictions = classifier.predict(X_test_counts)\n",
    "#         # Step 6: Evaluate the classifier\n",
    "#         print('Micro F1 for ngram_range=(',i,',',j,'):',evaluation.compute_micro_f1_score(predictions, Y_test))\n",
    "#         print('Macro F1 for ngram_range=(',i,',',j,'):',evaluation.compute_macro_f1_score(predictions, Y_test))\n",
    "#         print('=======================================================')\n",
    "#         # Step 7: Write the micro and macro F1 scores to a file\n",
    "#         with open('ngram_range.txt', 'a') as file:\n",
    "#             file.write('Micro F1 for ngram_range=('+str(i)+','+str(j)+'):'+str(evaluation.compute_micro_f1_score(predictions, Y_test))+'\\n')\n",
    "#             file.write('Macro F1 for ngram_range=('+str(i)+','+str(j)+'):'+str(evaluation.compute_macro_f1_score(predictions, Y_test))+'\\n')\n",
    "#             file.write('=======================================================\\n')\n"
   ]
  },
  {
   "cell_type": "markdown",
   "metadata": {},
   "source": [
    "### UpSampling the Data\n",
    "TODO: Change the number 17 according to the data available"
   ]
  },
  {
   "cell_type": "code",
   "execution_count": null,
   "metadata": {},
   "outputs": [],
   "source": [
    "X_train_new = []\n",
    "Y_train_new = []\n",
    "\n",
    "for i in range(len(X_train)):\n",
    "    if Y_train[i] == 'ta' or Y_train[i]=='kn' or Y_train[i]=='ml' or Y_train[i]=='hi' or Y_train[i]=='bn' or Y_train[i]=='mr':\n",
    "        for j in range(17):\n",
    "            X_train_new.append(X_train[i])\n",
    "            Y_train_new.append(Y_train[i])\n",
    "    else:\n",
    "        X_train_new.append(X_train[i])\n",
    "        Y_train_new.append(Y_train[i])\n",
    "\n",
    "X_train = X_train_new\n",
    "Y_train = Y_train_new\n",
    "print(len(X_train))"
   ]
  },
  {
   "cell_type": "markdown",
   "metadata": {},
   "source": [
    "### Vectorization"
   ]
  },
  {
   "cell_type": "code",
   "execution_count": 39,
   "metadata": {},
   "outputs": [],
   "source": [
    "count_vectorizer = CountVectorizer(ngram_range=(4,6),analyzer='char')\n",
    "X_train_counts = count_vectorizer.fit_transform(X_train)\n",
    "X_test_counts = count_vectorizer.transform(X_test)\n",
    "print(X_train_counts.shape)"
   ]
  },
  {
   "cell_type": "markdown",
   "metadata": {},
   "source": [
    "### Naive Bayes Model\n",
    "TODO: Smoothing parameter tuning and set it according to the Capital Words"
   ]
  },
  {
   "cell_type": "code",
   "execution_count": 40,
   "metadata": {},
   "outputs": [
    {
     "data": {
      "text/html": [
       "<style>#sk-container-id-4 {color: black;}#sk-container-id-4 pre{padding: 0;}#sk-container-id-4 div.sk-toggleable {background-color: white;}#sk-container-id-4 label.sk-toggleable__label {cursor: pointer;display: block;width: 100%;margin-bottom: 0;padding: 0.3em;box-sizing: border-box;text-align: center;}#sk-container-id-4 label.sk-toggleable__label-arrow:before {content: \"▸\";float: left;margin-right: 0.25em;color: #696969;}#sk-container-id-4 label.sk-toggleable__label-arrow:hover:before {color: black;}#sk-container-id-4 div.sk-estimator:hover label.sk-toggleable__label-arrow:before {color: black;}#sk-container-id-4 div.sk-toggleable__content {max-height: 0;max-width: 0;overflow: hidden;text-align: left;background-color: #f0f8ff;}#sk-container-id-4 div.sk-toggleable__content pre {margin: 0.2em;color: black;border-radius: 0.25em;background-color: #f0f8ff;}#sk-container-id-4 input.sk-toggleable__control:checked~div.sk-toggleable__content {max-height: 200px;max-width: 100%;overflow: auto;}#sk-container-id-4 input.sk-toggleable__control:checked~label.sk-toggleable__label-arrow:before {content: \"▾\";}#sk-container-id-4 div.sk-estimator input.sk-toggleable__control:checked~label.sk-toggleable__label {background-color: #d4ebff;}#sk-container-id-4 div.sk-label input.sk-toggleable__control:checked~label.sk-toggleable__label {background-color: #d4ebff;}#sk-container-id-4 input.sk-hidden--visually {border: 0;clip: rect(1px 1px 1px 1px);clip: rect(1px, 1px, 1px, 1px);height: 1px;margin: -1px;overflow: hidden;padding: 0;position: absolute;width: 1px;}#sk-container-id-4 div.sk-estimator {font-family: monospace;background-color: #f0f8ff;border: 1px dotted black;border-radius: 0.25em;box-sizing: border-box;margin-bottom: 0.5em;}#sk-container-id-4 div.sk-estimator:hover {background-color: #d4ebff;}#sk-container-id-4 div.sk-parallel-item::after {content: \"\";width: 100%;border-bottom: 1px solid gray;flex-grow: 1;}#sk-container-id-4 div.sk-label:hover label.sk-toggleable__label {background-color: #d4ebff;}#sk-container-id-4 div.sk-serial::before {content: \"\";position: absolute;border-left: 1px solid gray;box-sizing: border-box;top: 0;bottom: 0;left: 50%;z-index: 0;}#sk-container-id-4 div.sk-serial {display: flex;flex-direction: column;align-items: center;background-color: white;padding-right: 0.2em;padding-left: 0.2em;position: relative;}#sk-container-id-4 div.sk-item {position: relative;z-index: 1;}#sk-container-id-4 div.sk-parallel {display: flex;align-items: stretch;justify-content: center;background-color: white;position: relative;}#sk-container-id-4 div.sk-item::before, #sk-container-id-4 div.sk-parallel-item::before {content: \"\";position: absolute;border-left: 1px solid gray;box-sizing: border-box;top: 0;bottom: 0;left: 50%;z-index: -1;}#sk-container-id-4 div.sk-parallel-item {display: flex;flex-direction: column;z-index: 1;position: relative;background-color: white;}#sk-container-id-4 div.sk-parallel-item:first-child::after {align-self: flex-end;width: 50%;}#sk-container-id-4 div.sk-parallel-item:last-child::after {align-self: flex-start;width: 50%;}#sk-container-id-4 div.sk-parallel-item:only-child::after {width: 0;}#sk-container-id-4 div.sk-dashed-wrapped {border: 1px dashed gray;margin: 0 0.4em 0.5em 0.4em;box-sizing: border-box;padding-bottom: 0.4em;background-color: white;}#sk-container-id-4 div.sk-label label {font-family: monospace;font-weight: bold;display: inline-block;line-height: 1.2em;}#sk-container-id-4 div.sk-label-container {text-align: center;}#sk-container-id-4 div.sk-container {/* jupyter's `normalize.less` sets `[hidden] { display: none; }` but bootstrap.min.css set `[hidden] { display: none !important; }` so we also need the `!important` here to be able to override the default hidden behavior on the sphinx rendered scikit-learn.org. See: https://github.com/scikit-learn/scikit-learn/issues/21755 */display: inline-block !important;position: relative;}#sk-container-id-4 div.sk-text-repr-fallback {display: none;}</style><div id=\"sk-container-id-4\" class=\"sk-top-container\"><div class=\"sk-text-repr-fallback\"><pre>MultinomialNB()</pre><b>In a Jupyter environment, please rerun this cell to show the HTML representation or trust the notebook. <br />On GitHub, the HTML representation is unable to render, please try loading this page with nbviewer.org.</b></div><div class=\"sk-container\" hidden><div class=\"sk-item\"><div class=\"sk-estimator sk-toggleable\"><input class=\"sk-toggleable__control sk-hidden--visually\" id=\"sk-estimator-id-4\" type=\"checkbox\" checked><label for=\"sk-estimator-id-4\" class=\"sk-toggleable__label sk-toggleable__label-arrow\">MultinomialNB</label><div class=\"sk-toggleable__content\"><pre>MultinomialNB()</pre></div></div></div></div></div>"
      ],
      "text/plain": [
       "MultinomialNB()"
      ]
     },
     "execution_count": 40,
     "metadata": {},
     "output_type": "execute_result"
    }
   ],
   "source": [
    "# Do naive bayes\n",
    "naive_bayes_classifier = MultinomialNB(alpha=0.01)\n",
    "naive_bayes_classifier.fit(X_train_counts, Y_train)\n",
    "predictions_nb = naive_bayes_classifier.predict(X_test_counts)"
   ]
  },
  {
   "cell_type": "code",
   "execution_count": 42,
   "metadata": {},
   "outputs": [
    {
     "name": "stdout",
     "output_type": "stream",
     "text": [
      "Micro F1 score for NB: 0.8456647398843931\n",
      "Macro F1 score for NB: 0.8657373594513328\n"
     ]
    }
   ],
   "source": [
    "print(\"Micro F1 score for NB:\", evaluation.compute_micro_f1_score(predictions_nb, Y_test))\n",
    "print(\"Macro F1 score for NB:\", evaluation.compute_macro_f1_score(predictions_nb, Y_test))"
   ]
  }
 ],
 "metadata": {
  "kernelspec": {
   "display_name": "Python 3",
   "language": "python",
   "name": "python3"
  },
  "language_info": {
   "codemirror_mode": {
    "name": "ipython",
    "version": 3
   },
   "file_extension": ".py",
   "mimetype": "text/x-python",
   "name": "python",
   "nbconvert_exporter": "python",
   "pygments_lexer": "ipython3",
   "version": "3.11.4"
  }
 },
 "nbformat": 4,
 "nbformat_minor": 2
}
