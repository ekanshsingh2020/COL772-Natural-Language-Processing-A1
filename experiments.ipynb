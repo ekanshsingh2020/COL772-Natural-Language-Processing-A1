{
 "cells": [
  {
   "cell_type": "code",
   "execution_count": 34,
   "metadata": {},
   "outputs": [],
   "source": [
    "import json\n",
    "from sklearn.model_selection import train_test_split\n",
    "from sklearn.feature_extraction.text import CountVectorizer\n",
    "from sklearn.pipeline import FeatureUnion\n",
    "from sklearn.naive_bayes import MultinomialNB\n",
    "import evaluation\n",
    "import numpy as np"
   ]
  },
  {
   "cell_type": "code",
   "execution_count": 35,
   "metadata": {},
   "outputs": [],
   "source": [
    "# Step 1: Load data from JSON file\n",
    "with open('a1_data/train.json', 'r',encoding='utf-8') as f:\n",
    "    data_train = json.load(f)\n",
    "with open('valid_new.json', 'r',encoding='utf-8') as f:\n",
    "    data_test = json.load(f)\n",
    "with open('a1_data/valid.json', 'r',encoding='utf-8') as f:\n",
    "    data_val = json.load(f)"
   ]
  },
  {
   "cell_type": "code",
   "execution_count": 36,
   "metadata": {},
   "outputs": [],
   "source": [
    "# Extract sentences and languages\n",
    "sentences_train = [entry['text'] for entry in data_train]\n",
    "languages_train = [entry['langid'] for entry in data_train]\n",
    "sentences_val = [entry['text'] for entry in data_val]\n",
    "languages_val = [entry['langid'] for entry in data_val]\n",
    "# Step 2: Split data into training and testing sets\n",
    "X_train, Y_train = sentences_train+sentences_val, languages_train+ languages_val\n",
    "del(sentences_train)\n",
    "del(languages_train)\n",
    "del(sentences_val)\n",
    "del(languages_val)"
   ]
  },
  {
   "cell_type": "code",
   "execution_count": 37,
   "metadata": {},
   "outputs": [
    {
     "name": "stdout",
     "output_type": "stream",
     "text": [
      "Data cleaned\n"
     ]
    }
   ],
   "source": [
    "for i in range(0,1):\n",
    "    X_test=X_train\n",
    "    Y_test=Y_train\n",
    "    count_vectorizer = CountVectorizer(ngram_range=(4,6), analyzer='char')\n",
    "    X_train_counts = count_vectorizer.fit_transform(X_train)\n",
    "    X_test_counts = count_vectorizer.transform(X_test)\n",
    "    naive_bayes_classifier = MultinomialNB(alpha=0.01)\n",
    "    naive_bayes_classifier.fit(X_train_counts, Y_train)\n",
    "    predictions_nb = naive_bayes_classifier.predict(X_test_counts)\n",
    "    X_train_new=[]\n",
    "    Y_train_new=[]\n",
    "    for i in range(len(X_train)):\n",
    "        if Y_train[i]==predictions_nb[i]:\n",
    "            X_train_new.append(X_train[i])\n",
    "            Y_train_new.append(Y_train[i])\n",
    "    X_train=X_train_new\n",
    "    Y_train=Y_train_new\n",
    "    del(X_train_new)\n",
    "    del(Y_train_new)\n",
    "    del(count_vectorizer)\n",
    "    del(X_train_counts)\n",
    "    del(X_test_counts)\n",
    "    del(naive_bayes_classifier)\n",
    "    del(predictions_nb)\n",
    "\n",
    "print(\"Data cleaned\")"
   ]
  },
  {
   "cell_type": "code",
   "execution_count": 38,
   "metadata": {},
   "outputs": [],
   "source": [
    "# now put the X_train and Y_train in json files\n",
    "# with open('X_train_clean.json','w') as f:\n",
    "#     json.dump(X_train,f)\n",
    "# with open('Y_train_clean.json','w') as f:\n",
    "#     json.dump(Y_train,f)"
   ]
  },
  {
   "cell_type": "code",
   "execution_count": 39,
   "metadata": {},
   "outputs": [],
   "source": [
    "# with open('X_train_clean.json', 'r',encoding='utf-8') as f:\n",
    "#     data_clean = json.load(f)\n",
    "# X_train=data_clean\n",
    "# with open('Y_train_clean.json', 'r',encoding='utf-8') as f:\n",
    "#     data_clean = json.load(f)\n",
    "# Y_train=data_clean\n",
    "# print(len(X_train))"
   ]
  },
  {
   "cell_type": "code",
   "execution_count": 40,
   "metadata": {},
   "outputs": [],
   "source": [
    "sentences_test = [entry['text'] for entry in data_test]\n",
    "languages_test = [entry['langid'] for entry in data_test]\n",
    "\n",
    "X_test, Y_test = sentences_test, languages_test\n",
    "\n",
    "del(sentences_test)\n",
    "del(languages_test)"
   ]
  },
  {
   "cell_type": "code",
   "execution_count": 41,
   "metadata": {},
   "outputs": [],
   "source": [
    "X_train_new = []\n",
    "Y_train_new = []\n",
    "\n",
    "for i in range(len(X_train)):\n",
    "    if Y_train[i] == 'ta' or Y_train[i]=='kn' or Y_train[i]=='ml' or Y_train[i]=='hi' or Y_train[i]=='bn' or Y_train[i]=='mr':\n",
    "        for j in range(17):\n",
    "            X_train_new.append(X_train[i])\n",
    "            Y_train_new.append(Y_train[i])\n",
    "    else:\n",
    "        X_train_new.append(X_train[i])\n",
    "        Y_train_new.append(Y_train[i])\n",
    "\n",
    "X_train = X_train_new\n",
    "Y_train = Y_train_new\n",
    "\n",
    "del(X_train_new)\n",
    "del(Y_train_new)"
   ]
  },
  {
   "cell_type": "code",
   "execution_count": 42,
   "metadata": {},
   "outputs": [],
   "source": [
    "# print(\"Start vectorize\")\n",
    "# count_vectorizer = CountVectorizer(ngram_range=(4,6),analyzer='char')\n",
    "# X_train_counts = count_vectorizer.fit_transform(X_train)\n",
    "# X_test_counts = count_vectorizer.transform(X_test)\n",
    "# print(X_train_counts.shape)\n",
    "# del(count_vectorizer)"
   ]
  },
  {
   "cell_type": "code",
   "execution_count": 43,
   "metadata": {},
   "outputs": [
    {
     "name": "stdout",
     "output_type": "stream",
     "text": [
      "Start vectorize\n",
      "(1280554, 11602031)\n"
     ]
    }
   ],
   "source": [
    "print(\"Start vectorize\")\n",
    "count_vectorizer_1 = CountVectorizer(ngram_range=(4,6),analyzer='char')\n",
    "count_vectorizer_2 = CountVectorizer(ngram_range=(2,2),analyzer='word')\n",
    "count_vectorizer = FeatureUnion([\n",
    "    ('count1', count_vectorizer_1),\n",
    "    ('count2', count_vectorizer_2)\n",
    "]) \n",
    "del(count_vectorizer_1)\n",
    "del(count_vectorizer_2)\n",
    "X_train_counts = count_vectorizer.fit_transform(X_train)\n",
    "X_test_counts = count_vectorizer.transform(X_test)\n",
    "print(X_train_counts.shape)\n",
    "del(count_vectorizer)"
   ]
  },
  {
   "cell_type": "code",
   "execution_count": 44,
   "metadata": {},
   "outputs": [
    {
     "name": "stdout",
     "output_type": "stream",
     "text": [
      "Start NB\n"
     ]
    }
   ],
   "source": [
    "# Do naive bayes\n",
    "print(\"Start NB\")\n",
    "naive_bayes_classifier = MultinomialNB(alpha=0.01)\n",
    "naive_bayes_classifier.fit(X_train_counts, Y_train)\n",
    "predictions_nb = naive_bayes_classifier.predict(X_test_counts)\n",
    "del(naive_bayes_classifier)\n",
    "del(X_train_counts)\n",
    "del(X_test_counts)"
   ]
  },
  {
   "cell_type": "code",
   "execution_count": 45,
   "metadata": {},
   "outputs": [
    {
     "name": "stdout",
     "output_type": "stream",
     "text": [
      "Micro F1 score for NB: 0.92\n",
      "Macro F1 score for NB: 0.9352866348462423\n"
     ]
    }
   ],
   "source": [
    "print(\"Micro F1 score for NB:\", evaluation.compute_micro_f1_score(predictions_nb, Y_test))\n",
    "print(\"Macro F1 score for NB:\", evaluation.compute_macro_f1_score(predictions_nb, Y_test))\n",
    "del(X_train)\n",
    "del(Y_train)\n",
    "del(predictions_nb)"
   ]
  }
 ],
 "metadata": {
  "kernelspec": {
   "display_name": "Python 3",
   "language": "python",
   "name": "python3"
  },
  "language_info": {
   "codemirror_mode": {
    "name": "ipython",
    "version": 3
   },
   "file_extension": ".py",
   "mimetype": "text/x-python",
   "name": "python",
   "nbconvert_exporter": "python",
   "pygments_lexer": "ipython3",
   "version": "3.11.4"
  }
 },
 "nbformat": 4,
 "nbformat_minor": 2
}
