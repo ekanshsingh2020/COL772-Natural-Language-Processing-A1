{
 "cells": [
  {
   "cell_type": "code",
   "execution_count": 1,
   "metadata": {},
   "outputs": [],
   "source": [
    "import json\n",
    "from sklearn.model_selection import train_test_split\n",
    "from sklearn.feature_extraction.text import CountVectorizer\n",
    "from sklearn.naive_bayes import MultinomialNB\n",
    "import evaluation\n",
    "import numpy as np"
   ]
  },
  {
   "cell_type": "code",
   "execution_count": 2,
   "metadata": {},
   "outputs": [],
   "source": [
    "# Step 1: Load data from JSON file\n",
    "with open('a1_data/train.json', 'r',encoding='utf-8') as f:\n",
    "    data_train = json.load(f)\n",
    "with open('valid_new.json', 'r',encoding='utf-8') as f:\n",
    "    data_test = json.load(f)"
   ]
  },
  {
   "cell_type": "code",
   "execution_count": 3,
   "metadata": {},
   "outputs": [],
   "source": [
    "# Extract sentences and languages\n",
    "sentences_train = [entry['text'] for entry in data_train]\n",
    "languages_train = [entry['langid'] for entry in data_train]\n",
    "\n",
    "# Step 2: Split data into training and testing sets\n",
    "X_train, Y_train = sentences_train, languages_train"
   ]
  },
  {
   "cell_type": "code",
   "execution_count": 4,
   "metadata": {},
   "outputs": [],
   "source": [
    "# for i in range(0,3):\n",
    "#     X_test=X_train\n",
    "#     Y_test=Y_train\n",
    "#     count_vectorizer = CountVectorizer(ngram_range=(4,5),analyzer='char')\n",
    "#     X_train_counts = count_vectorizer.fit_transform(X_train)\n",
    "#     X_test_counts = count_vectorizer.transform(X_test)\n",
    "#     naive_bayes_classifier = MultinomialNB()\n",
    "#     naive_bayes_classifier.fit(X_train_counts, Y_train)\n",
    "#     predictions_nb = naive_bayes_classifier.predict(X_test_counts)\n",
    "#     print(\"Micro F1 score for NB:\", evaluation.compute_micro_f1_score(predictions_nb, Y_test))\n",
    "#     print(\"Macro F1 score for NB:\", evaluation.compute_macro_f1_score(predictions_nb, Y_test))\n",
    "#     X_train_new=[]\n",
    "#     Y_train_new=[]\n",
    "#     print(len(X_train))\n",
    "#     print(len(Y_train))\n",
    "#     for i in range(len(X_train)):\n",
    "#         if Y_train[i]==predictions_nb[i]:\n",
    "#             X_train_new.append(X_train[i])\n",
    "#             Y_train_new.append(Y_train[i])\n",
    "#     X_train=X_train_new\n",
    "#     Y_train=Y_train_new\n",
    "#     print(len(X_train))\n",
    "#     print(len(Y_train))"
   ]
  },
  {
   "cell_type": "code",
   "execution_count": 5,
   "metadata": {},
   "outputs": [],
   "source": [
    "with open('X_train_clean.json', 'r',encoding='utf-8') as f:\n",
    "    data_clean = json.load(f)\n",
    "X_train=data_clean\n",
    "with open('Y_train_clean.json', 'r',encoding='utf-8') as f:\n",
    "    data_clean = json.load(f)\n",
    "Y_train=data_clean\n",
    "print(len(X_train))"
   ]
  },
  {
   "cell_type": "code",
   "execution_count": 7,
   "metadata": {},
   "outputs": [],
   "source": [
    "sentences_test = [entry['text'] for entry in data_test]\n",
    "languages_test = [entry['langid'] for entry in data_test]\n",
    "\n",
    "X_test, Y_test = sentences_test, languages_test"
   ]
  },
  {
   "cell_type": "code",
   "execution_count": 8,
   "metadata": {},
   "outputs": [
    {
     "name": "stdout",
     "output_type": "stream",
     "text": [
      "1129593\n"
     ]
    }
   ],
   "source": [
    "X_train_new = []\n",
    "Y_train_new = []\n",
    "\n",
    "for i in range(len(X_train)):\n",
    "    if Y_train[i] == 'ta' or Y_train[i]=='kn' or Y_train[i]=='ml' or Y_train[i]=='hi' or Y_train[i]=='bn' or Y_train[i]=='mr':\n",
    "        for j in range(17):\n",
    "            X_train_new.append(X_train[i])\n",
    "            Y_train_new.append(Y_train[i])\n",
    "    else:\n",
    "        X_train_new.append(X_train[i])\n",
    "        Y_train_new.append(Y_train[i])\n",
    "\n",
    "X_train = X_train_new\n",
    "Y_train = Y_train_new\n",
    "print(len(X_train))"
   ]
  },
  {
   "cell_type": "code",
   "execution_count": 9,
   "metadata": {},
   "outputs": [
    {
     "name": "stdout",
     "output_type": "stream",
     "text": [
      "(1129593, 6952776)\n"
     ]
    }
   ],
   "source": [
    "count_vectorizer = CountVectorizer(ngram_range=(4,6),analyzer='char')\n",
    "X_train_counts = count_vectorizer.fit_transform(X_train)\n",
    "X_test_counts = count_vectorizer.transform(X_test)\n",
    "print(X_train_counts.shape)"
   ]
  },
  {
   "cell_type": "code",
   "execution_count": null,
   "metadata": {},
   "outputs": [],
   "source": [
    "# Do naive bayes\n",
    "naive_bayes_classifier = MultinomialNB(alpha=0.01)\n",
    "naive_bayes_classifier.fit(X_train_counts, Y_train)\n",
    "predictions_nb = naive_bayes_classifier.predict(X_test_counts)"
   ]
  },
  {
   "cell_type": "code",
   "execution_count": 10,
   "metadata": {},
   "outputs": [
    {
     "name": "stdout",
     "output_type": "stream",
     "text": [
      "Micro F1 score for NB: 0.9164179104477613\n",
      "Macro F1 score for NB: 0.9315237116887807\n"
     ]
    }
   ],
   "source": [
    "print(\"Micro F1 score for NB:\", evaluation.compute_micro_f1_score(predictions_nb, Y_test))\n",
    "print(\"Macro F1 score for NB:\", evaluation.compute_macro_f1_score(predictions_nb, Y_test))"
   ]
  }
 ],
 "metadata": {
  "kernelspec": {
   "display_name": "Python 3",
   "language": "python",
   "name": "python3"
  },
  "language_info": {
   "codemirror_mode": {
    "name": "ipython",
    "version": 3
   },
   "file_extension": ".py",
   "mimetype": "text/x-python",
   "name": "python",
   "nbconvert_exporter": "python",
   "pygments_lexer": "ipython3",
   "version": "3.8.10"
  }
 },
 "nbformat": 4,
 "nbformat_minor": 2
}
